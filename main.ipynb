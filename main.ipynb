{
 "cells": [
  {
   "cell_type": "code",
   "execution_count": null,
   "outputs": [],
   "source": [
    "import requests\n",
    "import os\n",
    "import json\n",
    "\n",
    "def extract_ids_from_json(data):\n",
    "    extracted_ids = []\n",
    "    def search_dict(d):\n",
    "        for key, value in d.items():\n",
    "            if key == 'id' and isinstance(value, str):\n",
    "                match = re.search(r'objects/([a-f0-9\\-]+)/', value)\n",
    "                if match:\n",
    "                    extracted_ids.append(match.group(1))\n",
    "            elif isinstance(value, dict):\n",
    "                search_dict(value)\n",
    "            elif isinstance(value, list):\n",
    "                for item in value:\n",
    "                    if isinstance(item, dict):\n",
    "                        search_dict(item)\n",
    "    search_dict(data)\n",
    "    return extracted_ids\n",
    "\n",
    "# Load the JSON file\n",
    "with open('results.json', 'r') as f:\n",
    "    data = json.load(f)\n",
    "\n",
    "# Extract IDs\n",
    "extracted_ids = extract_ids_from_json(data)\n",
    "\n",
    "# Iterate over each extracted ID\n",
    "for doc_id in extracted_ids:\n",
    "    manifest_url = f\"https://iiif.bodleian.ox.ac.uk/iiif/manifest/{doc_id}.json\"\n",
    "    response = requests.get(manifest_url)\n",
    "    manifest = response.json()\n",
    "\n",
    "    os.makedirs(doc_id, exist_ok=True)\n",
    "\n",
    "    for i, canvas in enumerate(manifest[\"sequences\"][0][\"canvases\"], start=1):\n",
    "        image_info = canvas[\"images\"][0][\"resource\"][\"service\"][\"@id\"]\n",
    "        image_url = f\"{image_info}/full/full/0/default.jpg\"\n",
    "\n",
    "        response = requests.get(image_url)\n",
    "        image_path = os.path.join(doc_id, f\"page_{i}.jpg\")\n",
    "        with open(image_path, \"wb\") as file:\n",
    "            file.write(response.content)\n",
    "\n",
    "        print(f\"Downloaded page {i} for document {doc_id}\")\n",
    "\n",
    "    print(f\"Download completed for document {doc_id}\")\n"
   ],
   "metadata": {
    "collapsed": false
   }
  }
 ],
 "metadata": {
  "kernelspec": {
   "display_name": "Python 3",
   "language": "python",
   "name": "python3"
  },
  "language_info": {
   "codemirror_mode": {
    "name": "ipython",
    "version": 2
   },
   "file_extension": ".py",
   "mimetype": "text/x-python",
   "name": "python",
   "nbconvert_exporter": "python",
   "pygments_lexer": "ipython2",
   "version": "2.7.6"
  }
 },
 "nbformat": 4,
 "nbformat_minor": 0
}
