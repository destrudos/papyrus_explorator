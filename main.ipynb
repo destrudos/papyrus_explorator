{
 "cells": [
  {
   "cell_type": "code",
   "execution_count": 1,
   "outputs": [
    {
     "ename": "FileNotFoundError",
     "evalue": "[Errno 2] No such file or directory: '/path/to/your/json/file.json'",
     "output_type": "error",
     "traceback": [
      "\u001B[1;31m---------------------------------------------------------------------------\u001B[0m",
      "\u001B[1;31mFileNotFoundError\u001B[0m                         Traceback (most recent call last)",
      "Cell \u001B[1;32mIn[1], line 25\u001B[0m\n\u001B[0;32m     22\u001B[0m     \u001B[38;5;28;01mreturn\u001B[39;00m extracted_ids\n\u001B[0;32m     24\u001B[0m \u001B[38;5;66;03m# Load the JSON file\u001B[39;00m\n\u001B[1;32m---> 25\u001B[0m \u001B[38;5;28;01mwith\u001B[39;00m \u001B[38;5;28;43mopen\u001B[39;49m\u001B[43m(\u001B[49m\u001B[38;5;124;43m'\u001B[39;49m\u001B[38;5;124;43m/path/to/your/json/file.json\u001B[39;49m\u001B[38;5;124;43m'\u001B[39;49m\u001B[43m,\u001B[49m\u001B[43m \u001B[49m\u001B[38;5;124;43m'\u001B[39;49m\u001B[38;5;124;43mr\u001B[39;49m\u001B[38;5;124;43m'\u001B[39;49m\u001B[43m)\u001B[49m \u001B[38;5;28;01mas\u001B[39;00m f:\n\u001B[0;32m     26\u001B[0m     data \u001B[38;5;241m=\u001B[39m json\u001B[38;5;241m.\u001B[39mload(f)\n\u001B[0;32m     28\u001B[0m \u001B[38;5;66;03m# Extract IDs\u001B[39;00m\n",
      "File \u001B[1;32mC:\\anaconda3\\envs\\vesuvius\\lib\\site-packages\\IPython\\core\\interactiveshell.py:286\u001B[0m, in \u001B[0;36m_modified_open\u001B[1;34m(file, *args, **kwargs)\u001B[0m\n\u001B[0;32m    279\u001B[0m \u001B[38;5;28;01mif\u001B[39;00m file \u001B[38;5;129;01min\u001B[39;00m {\u001B[38;5;241m0\u001B[39m, \u001B[38;5;241m1\u001B[39m, \u001B[38;5;241m2\u001B[39m}:\n\u001B[0;32m    280\u001B[0m     \u001B[38;5;28;01mraise\u001B[39;00m \u001B[38;5;167;01mValueError\u001B[39;00m(\n\u001B[0;32m    281\u001B[0m         \u001B[38;5;124mf\u001B[39m\u001B[38;5;124m\"\u001B[39m\u001B[38;5;124mIPython won\u001B[39m\u001B[38;5;124m'\u001B[39m\u001B[38;5;124mt let you open fd=\u001B[39m\u001B[38;5;132;01m{\u001B[39;00mfile\u001B[38;5;132;01m}\u001B[39;00m\u001B[38;5;124m by default \u001B[39m\u001B[38;5;124m\"\u001B[39m\n\u001B[0;32m    282\u001B[0m         \u001B[38;5;124m\"\u001B[39m\u001B[38;5;124mas it is likely to crash IPython. If you know what you are doing, \u001B[39m\u001B[38;5;124m\"\u001B[39m\n\u001B[0;32m    283\u001B[0m         \u001B[38;5;124m\"\u001B[39m\u001B[38;5;124myou can use builtins\u001B[39m\u001B[38;5;124m'\u001B[39m\u001B[38;5;124m open.\u001B[39m\u001B[38;5;124m\"\u001B[39m\n\u001B[0;32m    284\u001B[0m     )\n\u001B[1;32m--> 286\u001B[0m \u001B[38;5;28;01mreturn\u001B[39;00m io_open(file, \u001B[38;5;241m*\u001B[39margs, \u001B[38;5;241m*\u001B[39m\u001B[38;5;241m*\u001B[39mkwargs)\n",
      "\u001B[1;31mFileNotFoundError\u001B[0m: [Errno 2] No such file or directory: '/path/to/your/json/file.json'"
     ]
    }
   ],
   "source": [
    "import requests\n",
    "import os\n",
    "import json\n",
    "import re\n",
    "\n",
    "# Function to extract IDs from JSON\n",
    "def extract_ids_from_json(data):\n",
    "    extracted_ids = []\n",
    "    def search_dict(d):\n",
    "        for key, value in d.items():\n",
    "            if key == 'id' and isinstance(value, str):\n",
    "                match = re.search(r'objects/([a-f0-9\\-]+)/', value)\n",
    "                if match:\n",
    "                    extracted_ids.append(match.group(1))\n",
    "            elif isinstance(value, dict):\n",
    "                search_dict(value)\n",
    "            elif isinstance(value, list):\n",
    "                for item in value:\n",
    "                    if isinstance(item, dict):\n",
    "                        search_dict(item)\n",
    "    search_dict(data)\n",
    "    return extracted_ids\n",
    "\n",
    "# Load the JSON file\n",
    "with open('results.json', 'r') as f:\n",
    "    data = json.load(f)\n",
    "\n",
    "# Extract IDs\n",
    "extracted_ids = extract_ids_from_json(data)\n",
    "\n",
    "# Ensure the root directory exists\n",
    "os.makedirs(\"my_results\", exist_ok=True)\n",
    "\n",
    "# Iterate over each extracted ID\n",
    "for doc_id in extracted_ids:\n",
    "    manifest_url = f\"https://iiif.bodleian.ox.ac.uk/iiif/manifest/{doc_id}.json\"\n",
    "    response = requests.get(manifest_url)\n",
    "    manifest = response.json()\n",
    "\n",
    "    # Create a subdirectory inside \"my_results\"\n",
    "    os.makedirs(f\"my_results/{doc_id}\", exist_ok=True)\n",
    "\n",
    "    for i, canvas in enumerate(manifest[\"sequences\"][0][\"canvases\"], start=1):\n",
    "        image_info = canvas[\"images\"][0][\"resource\"][\"service\"][\"@id\"]\n",
    "        image_url = f\"{image_info}/full/full/0/default.jpg\"\n",
    "\n",
    "        response = requests.get(image_url)\n",
    "        # Save the image inside the subdirectory\n",
    "        image_path = os.path.join(f\"my_results/{doc_id}\", f\"page_{i}.jpg\")\n",
    "        with open(image_path, \"wb\") as file:\n",
    "            file.write(response.content)\n",
    "\n",
    "        print(f\"Downloaded page {i} for document {doc_id}\")\n",
    "\n",
    "    print(f\"Download completed for document {doc_id}\")\n"
   ],
   "metadata": {
    "collapsed": false
   }
  }
 ],
 "metadata": {
  "kernelspec": {
   "display_name": "Python 3",
   "language": "python",
   "name": "python3"
  },
  "language_info": {
   "codemirror_mode": {
    "name": "ipython",
    "version": 2
   },
   "file_extension": ".py",
   "mimetype": "text/x-python",
   "name": "python",
   "nbconvert_exporter": "python",
   "pygments_lexer": "ipython2",
   "version": "2.7.6"
  }
 },
 "nbformat": 4,
 "nbformat_minor": 0
}
